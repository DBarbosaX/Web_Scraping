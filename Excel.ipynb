{
 "cells": [
  {
   "cell_type": "markdown",
   "id": "449d1076",
   "metadata": {},
   "source": [
    "# Automatizar Excel"
   ]
  },
  {
   "cell_type": "markdown",
   "id": "497045c2",
   "metadata": {},
   "source": [
    "1 - Faça download das bibliotecas necessárias para criar a planilha. Abaixo, com uma raspagem utilizando BeautifulSoup, importe alguns dados para mandar para o Excel. Se desejar fazer essa raspagem, baixe as bibliotecas lxml e bs4. Para baixar via código, utilize ! na frente do comando pip install."
   ]
  },
  {
   "cell_type": "markdown",
   "id": "d07a749d",
   "metadata": {},
   "source": [
    "2 - Após baixar as bibliotecas e importa-lás, faça um request na página que deseja obter os dados e utilize o bs4 para a raspagem."
   ]
  },
  {
   "cell_type": "code",
   "execution_count": 3,
   "id": "e5355e7e",
   "metadata": {},
   "outputs": [
    {
     "name": "stdout",
     "output_type": "stream",
     "text": [
      "Requirement already satisfied: lxml in c:\\users\\lenovo\\anaconda3\\lib\\site-packages (4.6.3)\n",
      "Requirement already satisfied: bs4 in c:\\users\\lenovo\\anaconda3\\lib\\site-packages (0.0.1)\n",
      "Requirement already satisfied: beautifulsoup4 in c:\\users\\lenovo\\anaconda3\\lib\\site-packages (from bs4) (4.10.0)\n",
      "Requirement already satisfied: soupsieve>1.2 in c:\\users\\lenovo\\anaconda3\\lib\\site-packages (from beautifulsoup4->bs4) (2.2.1)\n"
     ]
    }
   ],
   "source": [
    "#pip install lxml\n",
    "#pip install bs4\n",
    "import bs4 \n",
    "import requests \n",
    "result = requests.get('https://www.worldometers.info/coronavirus/country/india/')\n",
    "soup = bs4.BeautifulSoup(result.text,'lxml')"
   ]
  },
  {
   "cell_type": "markdown",
   "id": "3a70d3e8",
   "metadata": {},
   "source": [
    "3 - Na página, inspecione o elemento. Utilize o método do bs4 para passar os valores da raspagem."
   ]
  },
  {
   "cell_type": "code",
   "execution_count": 4,
   "id": "0df5ca00",
   "metadata": {},
   "outputs": [],
   "source": [
    "cases = soup.find_all('div' ,class_= 'maincounter-number')"
   ]
  },
  {
   "cell_type": "markdown",
   "id": "e8d8e00c",
   "metadata": {},
   "source": [
    "4 - Armazene os dados obtidos em uma lista."
   ]
  },
  {
   "cell_type": "code",
   "execution_count": 5,
   "id": "ccada745",
   "metadata": {},
   "outputs": [
    {
     "name": "stdout",
     "output_type": "stream",
     "text": [
      "['43,107,689 ', '524,103', '42,563,949']\n"
     ]
    }
   ],
   "source": [
    "data = [] \n",
    "for i in cases: \n",
    "    span = i.find('span') \n",
    "    data.append(span.string) \n",
    "print(data)"
   ]
  },
  {
   "cell_type": "markdown",
   "id": "6a9d877a",
   "metadata": {},
   "source": [
    "5 - Importe a biblioteca Pandas que será usada para criar o arquivo Excel. Ao criar o arquivo, passe o nome do arquivo e os dados que deseja mandar. Abaixo, crie as colunas referentes aos dados. Por último utilize o método para criar o arquivo que desejar, no caso, excel."
   ]
  },
  {
   "cell_type": "code",
   "execution_count": 27,
   "id": "ead4cb03",
   "metadata": {},
   "outputs": [],
   "source": [
    "import pandas as pd \n",
    "df = pd.DataFrame({\"Fazer_Excel\": data}) \n",
    "df.index = ['TotalCases', ' Deaths', 'Recovered']"
   ]
  },
  {
   "cell_type": "code",
   "execution_count": 28,
   "id": "5deb6474",
   "metadata": {},
   "outputs": [
    {
     "name": "stderr",
     "output_type": "stream",
     "text": [
      "C:\\Users\\Lenovo\\AppData\\Local\\Temp/ipykernel_11008/1567128225.py:1: FutureWarning: As the xlwt package is no longer maintained, the xlwt engine will be removed in a future version of pandas. This is the only engine in pandas that supports writing in the xls format. Install openpyxl and write to an xlsx file instead. You can set the option io.excel.xls.writer to 'xlwt' to silence this warning. While this option is deprecated and will also raise a warning, it can be globally set and the warning suppressed.\n",
      "  df.to_excel('Fazer_Excel.xls')\n"
     ]
    }
   ],
   "source": [
    "df.to_excel('Fazer_Excel.xls')"
   ]
  },
  {
   "cell_type": "code",
   "execution_count": 29,
   "id": "1ad9cac9",
   "metadata": {},
   "outputs": [],
   "source": [
    "dates1=['April-10', 'April-11', 'April-12', 'April-13']\n",
    "fruits1=['Apple', 'Papaya', 'Banana', 'Mango']\n",
    "prices1=[3, 1, 2, 4]\n",
    "dates2=['April-10', 'April-11', 'April-12', 'April-13']\n",
    "fruits2=['Apple', 'Papaya', 'Banana', 'Mango']\n",
    "prices2=[3, 1, 2, 4]\n",
    "dates3=['April-10', 'April-11', 'April-12', 'April-13']\n",
    "fruits3=['Apple', 'Papaya', 'Banana', 'Mango']"
   ]
  },
  {
   "cell_type": "code",
   "execution_count": 30,
   "id": "ea08a686",
   "metadata": {},
   "outputs": [],
   "source": [
    "df = pd.DataFrame({'Software/Sistema':dates1 ,\n",
    "                   'CVE':fruits1 ,\n",
    "                   'Current Description': prices1,\n",
    "                  'Severity': dates2,\n",
    "                  'References': fruits2,\n",
    "                  'Known': prices2,\n",
    "                  'NVD': dates3,\n",
    "                  'Link': fruits3})"
   ]
  },
  {
   "cell_type": "code",
   "execution_count": 31,
   "id": "ee133e2c",
   "metadata": {},
   "outputs": [
    {
     "data": {
      "text/html": [
       "<div>\n",
       "<style scoped>\n",
       "    .dataframe tbody tr th:only-of-type {\n",
       "        vertical-align: middle;\n",
       "    }\n",
       "\n",
       "    .dataframe tbody tr th {\n",
       "        vertical-align: top;\n",
       "    }\n",
       "\n",
       "    .dataframe thead th {\n",
       "        text-align: right;\n",
       "    }\n",
       "</style>\n",
       "<table border=\"1\" class=\"dataframe\">\n",
       "  <thead>\n",
       "    <tr style=\"text-align: right;\">\n",
       "      <th></th>\n",
       "      <th>Software/Sistema</th>\n",
       "      <th>CVE</th>\n",
       "      <th>Current Description</th>\n",
       "      <th>Severity</th>\n",
       "      <th>References</th>\n",
       "      <th>Known</th>\n",
       "      <th>NVD</th>\n",
       "      <th>Link</th>\n",
       "    </tr>\n",
       "  </thead>\n",
       "  <tbody>\n",
       "    <tr>\n",
       "      <th>0</th>\n",
       "      <td>April-10</td>\n",
       "      <td>Apple</td>\n",
       "      <td>3</td>\n",
       "      <td>April-10</td>\n",
       "      <td>Apple</td>\n",
       "      <td>3</td>\n",
       "      <td>April-10</td>\n",
       "      <td>Apple</td>\n",
       "    </tr>\n",
       "    <tr>\n",
       "      <th>1</th>\n",
       "      <td>April-11</td>\n",
       "      <td>Papaya</td>\n",
       "      <td>1</td>\n",
       "      <td>April-11</td>\n",
       "      <td>Papaya</td>\n",
       "      <td>1</td>\n",
       "      <td>April-11</td>\n",
       "      <td>Papaya</td>\n",
       "    </tr>\n",
       "    <tr>\n",
       "      <th>2</th>\n",
       "      <td>April-12</td>\n",
       "      <td>Banana</td>\n",
       "      <td>2</td>\n",
       "      <td>April-12</td>\n",
       "      <td>Banana</td>\n",
       "      <td>2</td>\n",
       "      <td>April-12</td>\n",
       "      <td>Banana</td>\n",
       "    </tr>\n",
       "    <tr>\n",
       "      <th>3</th>\n",
       "      <td>April-13</td>\n",
       "      <td>Mango</td>\n",
       "      <td>4</td>\n",
       "      <td>April-13</td>\n",
       "      <td>Mango</td>\n",
       "      <td>4</td>\n",
       "      <td>April-13</td>\n",
       "      <td>Mango</td>\n",
       "    </tr>\n",
       "  </tbody>\n",
       "</table>\n",
       "</div>"
      ],
      "text/plain": [
       "  Software/Sistema     CVE  Current Description  Severity References  Known  \\\n",
       "0         April-10   Apple                    3  April-10      Apple      3   \n",
       "1         April-11  Papaya                    1  April-11     Papaya      1   \n",
       "2         April-12  Banana                    2  April-12     Banana      2   \n",
       "3         April-13   Mango                    4  April-13      Mango      4   \n",
       "\n",
       "        NVD    Link  \n",
       "0  April-10   Apple  \n",
       "1  April-11  Papaya  \n",
       "2  April-12  Banana  \n",
       "3  April-13   Mango  "
      ]
     },
     "execution_count": 31,
     "metadata": {},
     "output_type": "execute_result"
    }
   ],
   "source": [
    "df"
   ]
  },
  {
   "cell_type": "code",
   "execution_count": 38,
   "id": "2dae7d28",
   "metadata": {},
   "outputs": [
    {
     "name": "stderr",
     "output_type": "stream",
     "text": [
      "C:\\Users\\Lenovo\\AppData\\Local\\Temp/ipykernel_11008/3114294883.py:1: FutureWarning: As the xlwt package is no longer maintained, the xlwt engine will be removed in a future version of pandas. This is the only engine in pandas that supports writing in the xls format. Install openpyxl and write to an xlsx file instead. You can set the option io.excel.xls.writer to 'xlwt' to silence this warning. While this option is deprecated and will also raise a warning, it can be globally set and the warning suppressed.\n",
      "  df.to_excel(\"Planilha.xls\")\n"
     ]
    }
   ],
   "source": [
    "df.to_excel(\"Planilha.xls\")"
   ]
  },
  {
   "cell_type": "code",
   "execution_count": null,
   "id": "21099e2b",
   "metadata": {},
   "outputs": [],
   "source": []
  }
 ],
 "metadata": {
  "kernelspec": {
   "display_name": "Python 3 (ipykernel)",
   "language": "python",
   "name": "python3"
  },
  "language_info": {
   "codemirror_mode": {
    "name": "ipython",
    "version": 3
   },
   "file_extension": ".py",
   "mimetype": "text/x-python",
   "name": "python",
   "nbconvert_exporter": "python",
   "pygments_lexer": "ipython3",
   "version": "3.9.7"
  }
 },
 "nbformat": 4,
 "nbformat_minor": 5
}
