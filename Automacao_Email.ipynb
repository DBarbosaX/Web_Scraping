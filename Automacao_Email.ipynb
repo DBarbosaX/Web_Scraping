{
 "cells": [
  {
   "cell_type": "markdown",
   "id": "2afa7afc",
   "metadata": {},
   "source": [
    "# Automacao de envio de emails"
   ]
  },
  {
   "cell_type": "markdown",
   "id": "01ff8e1e",
   "metadata": {},
   "source": [
    "### Envio de emails utilizando o outlook como forte emissora"
   ]
  },
  {
   "cell_type": "code",
   "execution_count": 25,
   "id": "663446c5",
   "metadata": {},
   "outputs": [
    {
     "name": "stdout",
     "output_type": "stream",
     "text": [
      "Requirement already satisfied: pywin32 in c:\\programdata\\anaconda3\\lib\\site-packages (228)\n"
     ]
    }
   ],
   "source": [
    "#Instalação de bibliotecas\n",
    "\n",
    "!pip install pywin32\n",
    "import win32com.client as win32 # importar biblioteca para criar integraçãao entre o Python e o Outlook"
   ]
  },
  {
   "cell_type": "code",
   "execution_count": 26,
   "id": "63174a58",
   "metadata": {},
   "outputs": [],
   "source": [
    "def validar_nome(nome):                     #define a função validar_nome\n",
    "    \n",
    "    if \" \" in nome:                         #Se o nome não possuir espaçamento, considera como inválido\n",
    "        [p_nome,s_nome]= nome.split()       #divide a variável nome em p_nome (primeiro nome) e s_nome (sobrenome)\n",
    "        p = len(p_nome)                     #variável p recebe a quantidade de caracteres do primeiro nome\n",
    "        s = len(s_nome)                     #variável s recebe a quantidade de caracteres do sobrenome\n",
    "        if (p > 1 and s > 1):               #se p e s possuirem mais que uma letra, valida o nome\n",
    "            nome_certo = True               #variável recebe True por cumprir os requisitos, caso contrário recebe False\n",
    "        else:\n",
    "            nome_certo = False\n",
    "    else:\n",
    "        nome_certo = False\n",
    "    \n",
    "    return nome_certo                       #retorna nome_certo"
   ]
  },
  {
   "cell_type": "code",
   "execution_count": 27,
   "id": "5ab915f0",
   "metadata": {},
   "outputs": [],
   "source": [
    "def validar_email(destinatario):              #define a função validar_email\n",
    "    \n",
    "    if ((\"@\" in destinatario) and ((\".com\" in destinatario) or (\".br\" in destinatario))):   #Se o email do destinatario conter \"@\", mais \".com\" ou \".br\", passa pelo primeiro nível de validação\n",
    "        [p_destinatario, s_destinatario] = destinatario.split(\"@\")   #quebra o email do destinatatio em duas partes, sendo o \"@\" oo separador. A parte a esquerda do \"@\" é salva em p_mail, e a parte a diretira em s_mail\n",
    "        p = len(p_destinatario)                      #a variavel p recebe a quantidade de strings que existe antes do \"@\"\n",
    "        s = len(s_destinatario)                      #a variavel s recebe a quantidade de strings que existe depois do \"@\"\n",
    "        if (p > 0 and s > 3):                        #se a variavel p for maior que zero, e s maior que 3 (um string acima de 3 seria o mínimo caso o e-mail fosse @corps.br), valida o e-mail\n",
    "            email_certo = True            #a variável email_certo recebe o código de validação True\n",
    "        else:                             #Nas demais situações, recebe False\n",
    "            email_certo = False\n",
    "    else:\n",
    "        email_certo = False\n",
    "    return email_certo                   #retorna o valor na variável email_certo"
   ]
  },
  {
   "cell_type": "code",
   "execution_count": 28,
   "id": "902c2142",
   "metadata": {},
   "outputs": [],
   "source": [
    "def Enviar_Email(nome, destinatario, anexo_endereco):\n",
    "    \n",
    "    outlook = win32.Dispatch('outlook.application') # Cria a integração com o Outlook\n",
    "    email = outlook.CreateItem(0) #Gera um email\n",
    "    email.To = destinatario # define o endereço de email de destino\n",
    "    email.Subject = \"Assunto: email automático Python\" # define o assunto do email\n",
    "    \n",
    "    \n",
    "     # como enviar anexos\n",
    "\n",
    "    anexo = anexo_endereco   #\"C://Users/aluno/WebScraping/teste.xlsx\"\n",
    "    email.Attachments.Add(anexo)   #anexa ao email o arquivo solicitado\n",
    "    \n",
    "    email.HTMLBody = f\"\"\" \n",
    "\n",
    "    <p>Prozado, {nome}. Segue atualização sobre vulnerabilidades do programa solicitado.</p>\n",
    "    \n",
    "    <h1> Vulnerabilidades Encontradas </h1>\n",
    "    <!--\n",
    "        HIERARQUIA DE TABELAS (simples)\n",
    "        TABLE = tabela\n",
    "            TABLE ROW = linha de tabela\n",
    "            TABLE HEADER = cabeçalho de tabela\n",
    "            TABLE DATA = dado de tabela\n",
    "    \n",
    "    <table>\n",
    "        <tr> <!-- Primeira linha -->\n",
    "            <td>A1</td>\n",
    "            <td>B1</td>\n",
    "            <td>C1</td>\n",
    "        </tr>\n",
    "        <tr> <!-- Segunda linha -->\n",
    "            <td>A2</td>\n",
    "            <td>B2</td>\n",
    "            <td>C2</td>\n",
    "        </tr>\n",
    "        <tr> <!-- Terceira linha -->\n",
    "            <td>A3</td>\n",
    "            <td>B3</td>\n",
    "            <td>C3</td>\n",
    "        </tr>\n",
    "    </table>\n",
    "            \n",
    "        \n",
    "    <p>Neste primeiro teste, enviaremos algumas informações básicas: </p>\n",
    "\n",
    "    <p>Data de envio: 11/05/2022 </p>\n",
    "\n",
    "    <p>atenciosamente, </p>\n",
    "    <p>Vinícius barbosa </p>\n",
    "\n",
    "    \"\"\" \n",
    "    #Corpo do email. O comando HTMLBody ao invés de criar apenas um texto, gera um template de email utilizando linguagem HTML.\n",
    "    #Com isso, permite várias configurações de páginas como acrescentar imagens, arquivos e outros itens\n",
    "    # Para criar um parágrafo em HTML, a linha precisa iniciar como <p>, e finalizar com </p>\n",
    "    # o comando (f\"\"\" texto de email\"\"\") torna dinâmico o texto do email, possibilitando acrescentar variáveis calculadas ao longo do código\n",
    "\n",
    "    email.Send() #envia o e-mail"
   ]
  },
  {
   "cell_type": "code",
   "execution_count": 29,
   "id": "05d9e506",
   "metadata": {},
   "outputs": [
    {
     "name": "stdout",
     "output_type": "stream",
     "text": [
      "Digite o seu nome e sobrenome: Vinicius Santos\n",
      "Digite o seu e-mail: viniciusbarbosabrasil@gmail.com\n",
      "email eviado\n"
     ]
    }
   ],
   "source": [
    "# início de solução Web Scraping\n",
    "\n",
    "email_certo = False   #iniciar uma variável que receberá a mensagem de validação de e-mail\n",
    "nome_certo = False    #iniciar uma variável que receberá a mensagem de validação de nome\n",
    "\n",
    "\n",
    "while nome_certo != True:                           #enquanto a variavel \"valida_nome\" não for verdadeiro, o código solicita para o usuário escrever um nome correto\n",
    "    nome = input(\"Digite o seu nome e sobrenome: \") #usuário digita nome para validação\n",
    "    nome_certo = validar_nome(nome)                 #Chama a função validar_nome\n",
    "\n",
    "\n",
    "while email_certo != True:                        #enquanto a variavel \"valida_email\" não for verdadeiro, o código solicita para o usuário escrever um e-mail correto\n",
    "    destinatario = input(\"Digite o seu e-mail: \") #usuário digita e-mail para validação\n",
    "    email_certo = validar_email(destinatario)     #Chama a função validar_email\n",
    "\n",
    "    \n",
    "anexo_endereco = \"C://Users/aluno/Web_Scraping/teste.xlsx\"   #C://Users/aluno/Web_Scraping/teste.xlsx\"\n",
    "Enviar_Email(nome, destinatario, anexo_endereco)\n",
    "print(\"email eviado\")\n"
   ]
  },
  {
   "cell_type": "code",
   "execution_count": null,
   "id": "88520ac2",
   "metadata": {},
   "outputs": [],
   "source": []
  },
  {
   "cell_type": "code",
   "execution_count": null,
   "id": "721fe674",
   "metadata": {},
   "outputs": [],
   "source": []
  },
  {
   "cell_type": "code",
   "execution_count": null,
   "id": "6d60dee0",
   "metadata": {},
   "outputs": [],
   "source": []
  },
  {
   "cell_type": "code",
   "execution_count": null,
   "id": "3dce7ffd",
   "metadata": {},
   "outputs": [],
   "source": []
  },
  {
   "cell_type": "code",
   "execution_count": null,
   "id": "16b32386",
   "metadata": {},
   "outputs": [],
   "source": []
  },
  {
   "cell_type": "code",
   "execution_count": null,
   "id": "aba997b9",
   "metadata": {},
   "outputs": [],
   "source": []
  },
  {
   "cell_type": "code",
   "execution_count": null,
   "id": "5037ade8",
   "metadata": {},
   "outputs": [],
   "source": []
  },
  {
   "cell_type": "code",
   "execution_count": null,
   "id": "a5df3203",
   "metadata": {},
   "outputs": [],
   "source": []
  },
  {
   "cell_type": "code",
   "execution_count": null,
   "id": "0316afac",
   "metadata": {},
   "outputs": [],
   "source": []
  }
 ],
 "metadata": {
  "kernelspec": {
   "display_name": "Python 3 (ipykernel)",
   "language": "python",
   "name": "python3"
  },
  "language_info": {
   "codemirror_mode": {
    "name": "ipython",
    "version": 3
   },
   "file_extension": ".py",
   "mimetype": "text/x-python",
   "name": "python",
   "nbconvert_exporter": "python",
   "pygments_lexer": "ipython3",
   "version": "3.9.7"
  }
 },
 "nbformat": 4,
 "nbformat_minor": 5
}
